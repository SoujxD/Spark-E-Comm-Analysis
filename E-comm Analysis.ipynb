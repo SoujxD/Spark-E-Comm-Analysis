{
 "cells": [
  {
   "cell_type": "code",
   "execution_count": 0,
   "metadata": {
    "application/vnd.databricks.v1+cell": {
     "cellMetadata": {
      "byteLimit": 2048000,
      "rowLimit": 10000
     },
     "inputWidgets": {},
     "nuid": "6cfcd115-54e2-4f47-8205-7b308419b66c",
     "showTitle": false,
     "title": ""
    }
   },
   "outputs": [],
   "source": [
    "from pyspark.sql import SparkSession"
   ]
  },
  {
   "cell_type": "code",
   "execution_count": 0,
   "metadata": {
    "application/vnd.databricks.v1+cell": {
     "cellMetadata": {
      "byteLimit": 2048000,
      "rowLimit": 10000
     },
     "inputWidgets": {},
     "nuid": "31891977-d2d9-438d-a985-dc8371fb0561",
     "showTitle": false,
     "title": ""
    }
   },
   "outputs": [],
   "source": [
    "spark = SparkSession.builder.appName(\"E-comm job analysis\").config(\"spark.jars.packages\", \"com.crealytics:spark-excel_2.12:0.13.8\").getOrCreate()"
   ]
  },
  {
   "cell_type": "code",
   "execution_count": 0,
   "metadata": {
    "application/vnd.databricks.v1+cell": {
     "cellMetadata": {
      "byteLimit": 2048000,
      "rowLimit": 10000
     },
     "inputWidgets": {},
     "nuid": "428b0320-dc3c-4bcf-988a-911bf3fee0ff",
     "showTitle": false,
     "title": ""
    }
   },
   "outputs": [
    {
     "data": {
      "text/html": [
       "\n",
       "            <div>\n",
       "                <p><b>SparkSession - hive</b></p>\n",
       "                \n",
       "        <div>\n",
       "            <p><b>SparkContext</b></p>\n",
       "\n",
       "            <p><a href=\"/?o=1129366135096570#setting/sparkui/0910-014222-qrcdpph2/driver-6901104121205329875\">Spark UI</a></p>\n",
       "\n",
       "            <dl>\n",
       "              <dt>Version</dt>\n",
       "                <dd><code>v3.3.2</code></dd>\n",
       "              <dt>Master</dt>\n",
       "                <dd><code>local[8]</code></dd>\n",
       "              <dt>AppName</dt>\n",
       "                <dd><code>Databricks Shell</code></dd>\n",
       "            </dl>\n",
       "        </div>\n",
       "        \n",
       "            </div>\n",
       "        "
      ]
     },
     "metadata": {
      "application/vnd.databricks.v1+output": {
       "addedWidgets": {},
       "arguments": {},
       "data": "\n            <div>\n                <p><b>SparkSession - hive</b></p>\n                \n        <div>\n            <p><b>SparkContext</b></p>\n\n            <p><a href=\"/?o=1129366135096570#setting/sparkui/0910-014222-qrcdpph2/driver-6901104121205329875\">Spark UI</a></p>\n\n            <dl>\n              <dt>Version</dt>\n                <dd><code>v3.3.2</code></dd>\n              <dt>Master</dt>\n                <dd><code>local[8]</code></dd>\n              <dt>AppName</dt>\n                <dd><code>Databricks Shell</code></dd>\n            </dl>\n        </div>\n        \n            </div>\n        ",
       "datasetInfos": [],
       "metadata": {},
       "removedWidgets": [],
       "textData": null,
       "type": "htmlSandbox"
      }
     },
     "output_type": "display_data"
    }
   ],
   "source": [
    "spark"
   ]
  },
  {
   "cell_type": "code",
   "execution_count": 0,
   "metadata": {
    "application/vnd.databricks.v1+cell": {
     "cellMetadata": {
      "byteLimit": 2048000,
      "rowLimit": 10000
     },
     "inputWidgets": {},
     "nuid": "0fb75022-632a-454c-8e5a-f0cf0cde15d0",
     "showTitle": false,
     "title": ""
    }
   },
   "outputs": [],
   "source": [
    "access_key = 'paste your access key'\n",
    "secret_key = 'paste your secret key'\n",
    "sc._jsc.hadoopConfiguration().set(\"fs.s3a.access.key\",access_key)\n",
    "sc._jsc.hadoopConfiguration().set(\"fs.s3a.secret.key\",secret_key)\n",
    "aws_region=\"your aws s3 region\"\n",
    "sc._jsc.hadoopConfiguration().set(\"fs.s3a.endpoints\",\"s3.\"+aws_region+\".amazonaws.com\")"
   ]
  },
  {
   "cell_type": "code",
   "execution_count": 0,
   "metadata": {
    "application/vnd.databricks.v1+cell": {
     "cellMetadata": {
      "byteLimit": 2048000,
      "rowLimit": 10000
     },
     "inputWidgets": {},
     "nuid": "02984fe2-6858-4428-b8f2-d0a1f939f9db",
     "showTitle": false,
     "title": ""
    }
   },
   "outputs": [],
   "source": [
    "from pyspark.sql.types import StructType , StructField , StringType , IntegerType\n",
    "\n",
    "customer_schema = StructType([\n",
    "    StructField(\"customer_id\",StringType(), True),\n",
    "    StructField(\"customer_unique_id\",StringType(), True),\n",
    "    StructField(\"customer_zip_code_prefix\",IntegerType(), True),\n",
    "    StructField(\"customer_city\",StringType(), True),\n",
    "    StructField(\"customer_state\",StringType(), True),\n",
    "])"
   ]
  },
  {
   "cell_type": "code",
   "execution_count": 0,
   "metadata": {
    "application/vnd.databricks.v1+cell": {
     "cellMetadata": {
      "byteLimit": 2048000,
      "rowLimit": 10000
     },
     "inputWidgets": {},
     "nuid": "c3bc043b-4053-4c47-b183-1ebc9a14947a",
     "showTitle": false,
     "title": ""
    }
   },
   "outputs": [],
   "source": [
    "customer_df = spark.read.schema(customer_schema).format(\"csv\").option(\"header\",\"true\").load(\"s3://soujanya-workspace/customers.csv\")"
   ]
  },
  {
   "cell_type": "code",
   "execution_count": 0,
   "metadata": {
    "application/vnd.databricks.v1+cell": {
     "cellMetadata": {
      "byteLimit": 2048000,
      "rowLimit": 10000
     },
     "inputWidgets": {},
     "nuid": "7f31c942-90ca-4541-9359-90d9c256de44",
     "showTitle": false,
     "title": ""
    }
   },
   "outputs": [
    {
     "name": "stdout",
     "output_type": "stream",
     "text": [
      "+-------+--------------------+--------------------+------------------------+-------------------+--------------+\n",
      "|summary|         customer_id|  customer_unique_id|customer_zip_code_prefix|      customer_city|customer_state|\n",
      "+-------+--------------------+--------------------+------------------------+-------------------+--------------+\n",
      "|  count|               99440|               99440|                   99440|              99440|         99440|\n",
      "|   mean|                null|                null|       35137.68303499598|               null|          null|\n",
      "| stddev|                null|                null|       29798.01632166116|               null|          null|\n",
      "|    min|00012a2ce6f8dcda2...|0000366f3b9a7992b...|                    1003|abadia dos dourados|            AC|\n",
      "|    max|ffffe8b65bbe3087b...|ffffd2657e2aad290...|                   99990|             zortea|            TO|\n",
      "+-------+--------------------+--------------------+------------------------+-------------------+--------------+\n",
      "\n"
     ]
    }
   ],
   "source": [
    "customer_df.describe().show()"
   ]
  },
  {
   "cell_type": "code",
   "execution_count": 0,
   "metadata": {
    "application/vnd.databricks.v1+cell": {
     "cellMetadata": {
      "byteLimit": 2048000,
      "rowLimit": 10000
     },
     "inputWidgets": {},
     "nuid": "8a1d30b1-071e-4a82-809f-7415609665e2",
     "showTitle": false,
     "title": ""
    }
   },
   "outputs": [],
   "source": [
    "from pyspark.sql.types import StructField ,StructField , IntegerType , DoubleType , StringType\n",
    "geolocation_schema = StructType([\n",
    "    StructField(\"geolocation_zip_code_prefix\",IntegerType(),True),\n",
    "    StructField(\"geolocation_lat\",DoubleType(),True),\n",
    "    StructField(\"geolocation_lng\",DoubleType(),True),\n",
    "    StructField(\"geolocation_city\",StringType(),True),\n",
    "    StructField(\"geolocation_state\",StringType(),True),\n",
    "])\n",
    "geolocation_df = spark.read.schema(geolocation_schema).format(\"csv\").option(\"header\",\"true\").load(\"s3://soujanya-workspace/geolocation.csv\")"
   ]
  },
  {
   "cell_type": "code",
   "execution_count": 0,
   "metadata": {
    "application/vnd.databricks.v1+cell": {
     "cellMetadata": {
      "byteLimit": 2048000,
      "rowLimit": 10000
     },
     "inputWidgets": {},
     "nuid": "62fe9ec0-2a0a-4027-8443-6dfa1bca3bc6",
     "showTitle": false,
     "title": ""
    }
   },
   "outputs": [
    {
     "name": "stdout",
     "output_type": "stream",
     "text": [
      "+---------------------------+---------------+---------------+----------------+-----------------+\n",
      "|geolocation_zip_code_prefix|geolocation_lat|geolocation_lng|geolocation_city|geolocation_state|\n",
      "+---------------------------+---------------+---------------+----------------+-----------------+\n",
      "|                       5409|     -23.560673|      -46.67341|       sao paulo|               SP|\n",
      "|                       5409|     -23.560673|      -46.67341|       sao paulo|               SP|\n",
      "|                       5409|     -23.560673|      -46.67341|       sao paulo|               SP|\n",
      "|                       5409|     -23.560673|      -46.67341|       sao paulo|               SP|\n",
      "|                       5409|     -23.560673|      -46.67341|       sao paulo|               SP|\n",
      "+---------------------------+---------------+---------------+----------------+-----------------+\n",
      "only showing top 5 rows\n",
      "\n"
     ]
    }
   ],
   "source": [
    "geolocation_df.show(5)"
   ]
  },
  {
   "cell_type": "code",
   "execution_count": 0,
   "metadata": {
    "application/vnd.databricks.v1+cell": {
     "cellMetadata": {
      "byteLimit": 2048000,
      "rowLimit": 10000
     },
     "inputWidgets": {},
     "nuid": "4578c956-363f-484f-b785-5c5052dfe2bf",
     "showTitle": false,
     "title": ""
    }
   },
   "outputs": [
    {
     "name": "stdout",
     "output_type": "stream",
     "text": [
      "+--------------------+-------------+--------------------+--------------------+-------------------+-----+-------------+\n",
      "|            order_id|order_item_id|          product_id|           seller_id|shipping_limit_date|price|freight_value|\n",
      "+--------------------+-------------+--------------------+--------------------+-------------------+-----+-------------+\n",
      "|00018f77f2f0320c5...|            1|e5f2d52b802189ee6...|dd7ddc04e1b6c2c61...|         2017-05-03|239.9|        19.93|\n",
      "|000229ec398224ef6...|            1|c777355d18b72b67a...|5b51032eddd242adc...|         2018-01-18|199.0|        17.87|\n",
      "|00024acbcdf0a6daa...|            1|7634da152a4610f15...|9d7a1d34a50524090...|         2018-08-15|12.99|        12.79|\n",
      "|00042b26cf59d7ce6...|            1|ac6c3623068f30de0...|df560393f3a51e745...|         2017-02-13|199.9|        18.14|\n",
      "|00048cc3ae777c65d...|            1|ef92defde845ab845...|6426d21aca402a131...|         2017-05-23| 21.9|        12.69|\n",
      "+--------------------+-------------+--------------------+--------------------+-------------------+-----+-------------+\n",
      "only showing top 5 rows\n",
      "\n"
     ]
    }
   ],
   "source": [
    "from pyspark.sql import SparkSession\n",
    "from pyspark.sql.types import StructType, StructField, StringType, IntegerType, DoubleType, DateType\n",
    "from pyspark.sql.functions import col, to_date\n",
    "\n",
    "\n",
    "\n",
    "# Define the schema for the order_items DataFrame\n",
    "order_items_schema = StructType([\n",
    "    StructField(\"order_id\", StringType(), True),                  # order_id as StringType\n",
    "    StructField(\"order_item_id\", IntegerType(), True),            # order_item_id as IntegerType\n",
    "    StructField(\"product_id\", StringType(), True),                # product_id as StringType\n",
    "    StructField(\"seller_id\", StringType(), True),                 # seller_id as StringType\n",
    "    StructField(\"shipping_limit_date\", StringType(), True),       # Initially read shipping_limit_date as StringType\n",
    "    StructField(\"price\", DoubleType(), True),                     # price as DoubleType\n",
    "    StructField(\"freight_value\", DoubleType(), True)              # freight_value as DoubleType\n",
    "])\n",
    "\n",
    "# Path to the data file (e.g., CSV)\n",
    "file_path = \"s3://soujanya-workspace/order_items.csv\"  # Adjust the path as needed\n",
    "\n",
    "# Read the data into a DataFrame with the specified schema\n",
    "order_items_df = spark.read \\\n",
    "    .format(\"csv\") \\\n",
    "    .option(\"header\", \"true\") \\\n",
    "    .schema(order_items_schema) \\\n",
    "    .load(file_path)\n",
    "\n",
    "# Convert 'shipping_limit_date' from StringType to DateType\n",
    "order_items_df = order_items_df.withColumn(\"shipping_limit_date\", to_date(col(\"shipping_limit_date\"), \"M/d/yyyy\"))\n",
    "\n",
    "# Show the DataFrame content\n",
    "order_items_df.show(5)\n"
   ]
  },
  {
   "cell_type": "code",
   "execution_count": 0,
   "metadata": {
    "application/vnd.databricks.v1+cell": {
     "cellMetadata": {
      "byteLimit": 2048000,
      "rowLimit": 10000
     },
     "inputWidgets": {},
     "nuid": "927d12b8-5cb0-4c25-bb82-4906a6ce43e0",
     "showTitle": false,
     "title": ""
    }
   },
   "outputs": [
    {
     "name": "stdout",
     "output_type": "stream",
     "text": [
      "+--------------------+------------------+------------+--------------------+-------------+\n",
      "|            order_id|payment_sequential|payment_type|payment_installments|payment_value|\n",
      "+--------------------+------------------+------------+--------------------+-------------+\n",
      "|a9810da82917af2d9...|                 1| credit_card|                   1|        24.39|\n",
      "|25e8ea4e93396b6fa...|                 1| credit_card|                   1|        65.71|\n",
      "|ba78997921bbcdc13...|                 1| credit_card|                   8|       107.78|\n",
      "|42fdf880ba16b47b5...|                 1| credit_card|                   2|       128.45|\n",
      "|298fcdf1f73eb413e...|                 1| credit_card|                   2|        96.12|\n",
      "+--------------------+------------------+------------+--------------------+-------------+\n",
      "only showing top 5 rows\n",
      "\n"
     ]
    }
   ],
   "source": [
    "from pyspark.sql import SparkSession\n",
    "from pyspark.sql.types import StructType, StructField, StringType, IntegerType, DoubleType\n",
    "\n",
    "\n",
    "\n",
    "# Define the schema for the payment DataFrame\n",
    "payment_schema = StructType([\n",
    "    StructField(\"order_id\", StringType(), True),                  # order_id as StringType\n",
    "    StructField(\"payment_sequential\", IntegerType(), True),       # payment_sequential as IntegerType\n",
    "    StructField(\"payment_type\", StringType(), True),              # payment_type as StringType\n",
    "    StructField(\"payment_installments\", IntegerType(), True),     # payment_installments as IntegerType\n",
    "    StructField(\"payment_value\", DoubleType(), True)              # payment_value as DoubleType\n",
    "])\n",
    "\n",
    "# Path to the data file (e.g., CSV)\n",
    "file_path = \"s3://soujanya-workspace/order_payments.csv\"  # Adjust the path as needed\n",
    "\n",
    "# Read the data into a DataFrame with the specified schema\n",
    "payment_df = spark.read \\\n",
    "    .format(\"csv\") \\\n",
    "    .option(\"header\", \"true\") \\\n",
    "    .schema(payment_schema) \\\n",
    "    .load(file_path)\n",
    "\n",
    "# Show the DataFrame content\n",
    "payment_df.show(5)\n"
   ]
  },
  {
   "cell_type": "code",
   "execution_count": 0,
   "metadata": {
    "application/vnd.databricks.v1+cell": {
     "cellMetadata": {
      "byteLimit": 2048000,
      "rowLimit": 10000
     },
     "inputWidgets": {},
     "nuid": "7534fa86-658e-45f2-9da3-691148a680c3",
     "showTitle": false,
     "title": ""
    }
   },
   "outputs": [
    {
     "name": "stdout",
     "output_type": "stream",
     "text": [
      "+--------------------+--------------------+------------+--------------------+----------------------+--------------------+-----------------------+\n",
      "|           review_id|            order_id|review_score|review_comment_title|review_comment_message|review_creation_date|review_answer_timestamp|\n",
      "+--------------------+--------------------+------------+--------------------+----------------------+--------------------+-----------------------+\n",
      "|a34d2c4ace9724546...|9cd3b6a2b07667e42...|           5|                null|                  null|                null|                   null|\n",
      "|7dcdffff094e4beb8...|6949db3c04a148477...|           5|                null|                  null|                null|                   null|\n",
      "|ddcf5695dfc21bfbc...|6a92e66b9d3bd75ef...|           5|                null|                  null|                null|                   null|\n",
      "|eef97ccb23224de3c...|a86ad6bfca543eb89...|           5|                null|                  null|                null|                   null|\n",
      "|4c0f1bafc8726f102...|df14bdc601f10bff4...|           5|                null|                  null|                null|                   null|\n",
      "+--------------------+--------------------+------------+--------------------+----------------------+--------------------+-----------------------+\n",
      "only showing top 5 rows\n",
      "\n"
     ]
    }
   ],
   "source": [
    "from pyspark.sql.types import StructField , StructType  , IntegerType , StringType , TimestampType\n",
    "review_schema = StructType([\n",
    "    StructField(\"review_id\",StringType(),True),\n",
    "    StructField(\"order_id\",StringType(),True),\n",
    "    StructField(\"review_score\",IntegerType(),True),\n",
    "    StructField(\"review_comment_title\", StringType(), True),\n",
    "    StructField(\"review_comment_message\", StringType(), True),\n",
    "    StructField(\"review_creation_date\", TimestampType(), True),\n",
    "    StructField(\"review_answer_timestamp\", TimestampType(), True),\n",
    "])\n",
    "review_df = spark.read.format('csv').option(\"header\",\"true\").schema(review_schema).load(\"s3://soujanya-workspace/order_reviews.csv\")\n",
    "review_df.show(5)"
   ]
  },
  {
   "cell_type": "code",
   "execution_count": 0,
   "metadata": {
    "application/vnd.databricks.v1+cell": {
     "cellMetadata": {
      "byteLimit": 2048000,
      "rowLimit": 10000
     },
     "inputWidgets": {},
     "nuid": "42d67b5d-5fea-4b4d-b2af-10a8c4bbf0ba",
     "showTitle": false,
     "title": ""
    }
   },
   "outputs": [
    {
     "name": "stdout",
     "output_type": "stream",
     "text": [
      "+--------------------+------------------+------------+--------------------+-------------+\n",
      "|            order_id|payment_sequential|payment_type|payment_installments|payment_value|\n",
      "+--------------------+------------------+------------+--------------------+-------------+\n",
      "|0573b5e23cbd79800...|                 1|      boleto|                   1|        51.95|\n",
      "|8cd68144cdb62dc0d...|                 1|      boleto|                   1|       330.66|\n",
      "|b69b9260e79a0da00...|                 1|      boleto|                   1|       283.34|\n",
      "|00d8d65b666158b63...|                 1|      boleto|                   1|       130.88|\n",
      "|32b1d8f3789a57f1f...|                 1|      boleto|                   1|         56.6|\n",
      "+--------------------+------------------+------------+--------------------+-------------+\n",
      "only showing top 5 rows\n",
      "\n"
     ]
    }
   ],
   "source": [
    "from pyspark.sql import SparkSession\n",
    "from pyspark.sql.types import StructType, StructField, StringType, IntegerType, DoubleType\n",
    "\n",
    "\n",
    "\n",
    "# Define the schema for the payment DataFrame\n",
    "orders_schema = StructType([\n",
    "    StructField(\"order_id\", StringType(), True),                  # order_id as StringType\n",
    "    StructField(\"payment_sequential\", IntegerType(), True),       # payment_sequential as IntegerType\n",
    "    StructField(\"payment_type\", StringType(), True),              # payment_type as StringType\n",
    "    StructField(\"payment_installments\", IntegerType(), True),     # payment_installments as IntegerType\n",
    "    StructField(\"payment_value\", DoubleType(), True)              # payment_value as DoubleType\n",
    "])\n",
    "\n",
    "# Path to the data file (e.g., CSV)\n",
    "file_path = \"s3://soujanya-workspace/orders.csv\"  # Adjust the path as needed\n",
    "\n",
    "# Read the data into a DataFrame with the specified schema\n",
    "orders_df = spark.read \\\n",
    "    .format(\"csv\") \\\n",
    "    .option(\"header\", \"true\") \\\n",
    "    .schema(orders_schema) \\\n",
    "    .load(file_path)\n",
    "\n",
    "# Show the DataFrame content\n",
    "orders_df.show(5)\n"
   ]
  },
  {
   "cell_type": "code",
   "execution_count": 0,
   "metadata": {
    "application/vnd.databricks.v1+cell": {
     "cellMetadata": {
      "byteLimit": 2048000,
      "rowLimit": 10000
     },
     "inputWidgets": {},
     "nuid": "6ed2a70e-5b9d-497e-bb8e-60ee49991dcd",
     "showTitle": false,
     "title": ""
    }
   },
   "outputs": [
    {
     "name": "stdout",
     "output_type": "stream",
     "text": [
      "+---------------------+-----------------------------+\n",
      "|product_category_name|product_category_name_english|\n",
      "+---------------------+-----------------------------+\n",
      "| informatica_acess...|         computers_accesso...|\n",
      "|           automotivo|                         auto|\n",
      "|      cama_mesa_banho|               bed_bath_table|\n",
      "|     moveis_decoracao|              furniture_decor|\n",
      "|        esporte_lazer|               sports_leisure|\n",
      "+---------------------+-----------------------------+\n",
      "only showing top 5 rows\n",
      "\n"
     ]
    }
   ],
   "source": [
    "from pyspark.sql import SparkSession\n",
    "from pyspark.sql.types import StructType, StructField, StringType\n",
    "\n",
    "\n",
    "# Define the schema for the product categories DataFrame\n",
    "product_category_schema = StructType([\n",
    "    StructField(\"product_category_name\", StringType(), True),          # product_category_name as StringType\n",
    "    StructField(\"product_category_name_english\", StringType(), True)   # product_category_name_english as StringType\n",
    "])\n",
    "\n",
    "# Path to the data file (e.g., CSV)\n",
    "file_path = \"s3://soujanya-workspace/products _category.csv\"  # Adjust the path as needed\n",
    "\n",
    "# Read the data into a DataFrame with the specified schema\n",
    "product_category_df = spark.read \\\n",
    "    .format(\"csv\") \\\n",
    "    .option(\"header\", \"true\") \\\n",
    "    .schema(product_category_schema) \\\n",
    "    .load(file_path)\n",
    "\n",
    "# Show the DataFrame content\n",
    "product_category_df.show(5)"
   ]
  },
  {
   "cell_type": "code",
   "execution_count": 0,
   "metadata": {
    "application/vnd.databricks.v1+cell": {
     "cellMetadata": {
      "byteLimit": 2048000,
      "rowLimit": 10000
     },
     "inputWidgets": {},
     "nuid": "7fec29fd-98ea-4db4-ab4f-200a8920f404",
     "showTitle": false,
     "title": ""
    }
   },
   "outputs": [
    {
     "name": "stdout",
     "output_type": "stream",
     "text": [
      "+--------------------+----------------------+-----------+------------+\n",
      "|           seller_id|seller_zip_code_prefix|seller_city|seller_state|\n",
      "+--------------------+----------------------+-----------+------------+\n",
      "|c0f3eea2e14555b6f...|                  4195|  sao paulo|          SP|\n",
      "|768a86e36ad6aae3d...|                  1529|  sao paulo|          SP|\n",
      "|8bd0f31cf0a614c65...|                  1222|  sao paulo|          SP|\n",
      "|05a48cc8859962767...|                  5372|  sao paulo|          SP|\n",
      "|f9ec7093df3a7b346...|                  5138|  sao paulo|          SP|\n",
      "+--------------------+----------------------+-----------+------------+\n",
      "only showing top 5 rows\n",
      "\n"
     ]
    }
   ],
   "source": [
    "from pyspark.sql import SparkSession\n",
    "from pyspark.sql.types import StructType, StructField, StringType, IntegerType\n",
    "\n",
    "# Initialize SparkSession\n",
    "spark = SparkSession.builder.appName(\"SellerDetails\").getOrCreate()\n",
    "\n",
    "# Define the schema for the seller DataFrame\n",
    "seller_schema = StructType([\n",
    "    StructField(\"seller_id\", StringType(), True),               # seller_id as StringType\n",
    "    StructField(\"seller_zip_code_prefix\", IntegerType(), True), # seller_zip_code_prefix as IntegerType\n",
    "    StructField(\"seller_city\", StringType(), True),             # seller_city as StringType\n",
    "    StructField(\"seller_state\", StringType(), True)             # seller_state as StringType\n",
    "])\n",
    "\n",
    "# Path to the data file (e.g., CSV)\n",
    "file_path = \"s3://soujanya-workspace/seller.csv\"  # Adjust the path as needed\n",
    "\n",
    "# Read the data into a DataFrame with the specified schema\n",
    "seller_df = spark.read \\\n",
    "    .format(\"csv\") \\\n",
    "    .option(\"header\", \"true\") \\\n",
    "    .schema(seller_schema) \\\n",
    "    .load(file_path)\n",
    "\n",
    "# Show the DataFrame content\n",
    "seller_df.show(5)\n"
   ]
  },
  {
   "cell_type": "code",
   "execution_count": 0,
   "metadata": {
    "application/vnd.databricks.v1+cell": {
     "cellMetadata": {
      "byteLimit": 2048000,
      "rowLimit": 10000
     },
     "inputWidgets": {},
     "nuid": "9fdf1c25-4fc0-4616-ab02-6d0f8c2f71f1",
     "showTitle": false,
     "title": ""
    }
   },
   "outputs": [
    {
     "name": "stdout",
     "output_type": "stream",
     "text": [
      "+--------------------+--------------------+------------------------+-------------+--------------+\n",
      "|         customer_id|  customer_unique_id|customer_zip_code_prefix|customer_city|customer_state|\n",
      "+--------------------+--------------------+------------------------+-------------+--------------+\n",
      "|4e7b3e00288586ebd...|060e732b5b29e8181...|                    1151|    sao paulo|            SP|\n",
      "|fd826e7cf63160e53...|addec96d2e059c80c...|                    4534|    sao paulo|            SP|\n",
      "|eabebad39a88bb6f5...|295c05e81917928d7...|                    5704|    sao paulo|            SP|\n",
      "|9b8ce803689b3562d...|7f3a72e8f988c6e73...|                    5416|    sao paulo|            SP|\n",
      "|2938121a40a20953c...|482441ea6a06b1f72...|                    5713|    sao paulo|            SP|\n",
      "+--------------------+--------------------+------------------------+-------------+--------------+\n",
      "only showing top 5 rows\n",
      "\n"
     ]
    }
   ],
   "source": [
    "customer_df.show(5)"
   ]
  },
  {
   "cell_type": "code",
   "execution_count": 0,
   "metadata": {
    "application/vnd.databricks.v1+cell": {
     "cellMetadata": {
      "byteLimit": 2048000,
      "rowLimit": 10000
     },
     "inputWidgets": {},
     "nuid": "5a89b79d-588c-4253-96e0-ded54b135b0d",
     "showTitle": false,
     "title": ""
    }
   },
   "outputs": [],
   "source": [
    "from pyspark.sql import functions as F\n",
    "import matplotlib.pyplot as plt\n",
    "import seaborn as sns\n"
   ]
  },
  {
   "cell_type": "code",
   "execution_count": 0,
   "metadata": {
    "application/vnd.databricks.v1+cell": {
     "cellMetadata": {
      "byteLimit": 2048000,
      "rowLimit": 10000
     },
     "inputWidgets": {},
     "nuid": "c491d915-daf6-4988-8c87-915f4929d6a1",
     "showTitle": false,
     "title": ""
    }
   },
   "outputs": [
    {
     "name": "stdout",
     "output_type": "stream",
     "text": [
      "+--------------+-----+\n",
      "| customer_city|count|\n",
      "+--------------+-----+\n",
      "|     sao paulo|15540|\n",
      "|rio de janeiro| 6882|\n",
      "|belo horizonte| 2773|\n",
      "|      brasilia| 2131|\n",
      "|      curitiba| 1521|\n",
      "+--------------+-----+\n",
      "only showing top 5 rows\n",
      "\n",
      "+--------------+-----+\n",
      "|customer_state|count|\n",
      "+--------------+-----+\n",
      "|            SP|41745|\n",
      "|            RJ|12852|\n",
      "|            MG|11635|\n",
      "|            RS| 5466|\n",
      "|            PR| 5045|\n",
      "+--------------+-----+\n",
      "only showing top 5 rows\n",
      "\n"
     ]
    }
   ],
   "source": [
    "customer_city_dist = customer_df.groupBy(\"customer_city\").count().orderBy(F.desc(\"count\"))\n",
    "customer_city_dist.show(5)\n",
    "customer_state_dist = customer_df.groupBy(\"customer_state\").count().orderBy(F.desc(\"count\"))\n",
    "customer_state_dist.show(5)"
   ]
  },
  {
   "cell_type": "code",
   "execution_count": 0,
   "metadata": {
    "application/vnd.databricks.v1+cell": {
     "cellMetadata": {
      "byteLimit": 2048000,
      "rowLimit": 10000
     },
     "inputWidgets": {},
     "nuid": "672d6b2b-31b3-4eab-811c-225f7da26a4b",
     "showTitle": false,
     "title": ""
    }
   },
   "outputs": [
    {
     "data": {
      "image/png": "[encoded data removed]"
     },
     "metadata": {
      "application/vnd.databricks.v1+output": {
       "addedWidgets": {},
       "arguments": {},
       "data": "data:image/png;base64,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\n",
       "datasetInfos": [],
       "metadata": {},
       "removedWidgets": [],
       "type": "image"
      }
     },
     "output_type": "display_data"
    }
   ],
   "source": [
    "customer_state_dist_pd = customer_state_dist.toPandas()\n",
    "plt.figure(figsize = (12,6))\n",
    "sns.barplot(x=\"customer_state\",y=\"count\",data = customer_state_dist_pd)\n",
    "plt.title(\"customer distribution by state\")\n",
    "plt.xticks(rotation=90)\n",
    "plt.show()"
   ]
  },
  {
   "cell_type": "code",
   "execution_count": 0,
   "metadata": {
    "application/vnd.databricks.v1+cell": {
     "cellMetadata": {
      "byteLimit": 2048000,
      "rowLimit": 10000
     },
     "inputWidgets": {},
     "nuid": "c47d911e-e552-41fe-9f5c-3253ab926c23",
     "showTitle": false,
     "title": ""
    }
   },
   "outputs": [
    {
     "name": "stdout",
     "output_type": "stream",
     "text": [
      "+--------------------+------------------+------------+--------------------+-------------+\n",
      "|            order_id|payment_sequential|payment_type|payment_installments|payment_value|\n",
      "+--------------------+------------------+------------+--------------------+-------------+\n",
      "|0573b5e23cbd79800...|                 1|      boleto|                   1|        51.95|\n",
      "|8cd68144cdb62dc0d...|                 1|      boleto|                   1|       330.66|\n",
      "|b69b9260e79a0da00...|                 1|      boleto|                   1|       283.34|\n",
      "|00d8d65b666158b63...|                 1|      boleto|                   1|       130.88|\n",
      "|32b1d8f3789a57f1f...|                 1|      boleto|                   1|         56.6|\n",
      "+--------------------+------------------+------------+--------------------+-------------+\n",
      "only showing top 5 rows\n",
      "\n"
     ]
    }
   ],
   "source": [
    "orders_df.show(5)"
   ]
  },
  {
   "cell_type": "code",
   "execution_count": 0,
   "metadata": {
    "application/vnd.databricks.v1+cell": {
     "cellMetadata": {
      "byteLimit": 2048000,
      "rowLimit": 10000
     },
     "inputWidgets": {},
     "nuid": "135369a0-beb7-4f8f-99b7-1a4cbe8864dc",
     "showTitle": false,
     "title": ""
    }
   },
   "outputs": [
    {
     "name": "stdout",
     "output_type": "stream",
     "text": [
      "+--------------------+------------------+\n",
      "|          product_id|  avg_review_score|\n",
      "+--------------------+------------------+\n",
      "|0b0172eb0fd18479d...|             3.875|\n",
      "|42a2bd596fda1baef...|               4.0|\n",
      "|460a66fcc404a3d73...|3.8333333333333335|\n",
      "|30360c8b0b2ac6918...| 4.666666666666667|\n",
      "|13b4ff901d43edec6...|               5.0|\n",
      "+--------------------+------------------+\n",
      "only showing top 5 rows\n",
      "\n",
      "+--------------------+------------------+\n",
      "|           seller_id|  avg_review_score|\n",
      "+--------------------+------------------+\n",
      "|ff063b022a9a0aab9...|  4.28421052631579|\n",
      "|8e6cc767478edae94...|3.9035087719298245|\n",
      "|a49928bcdf77c55c6...| 2.952830188679245|\n",
      "|da7039f29f90ce5b4...| 4.555555555555555|\n",
      "|062ce95fa2ad4dfae...| 3.966666666666667|\n",
      "+--------------------+------------------+\n",
      "only showing top 5 rows\n",
      "\n"
     ]
    }
   ],
   "source": [
    "review_join = order_items_df.join(review_df,\"order_id\",\"inner\")\n",
    "product_reviews = review_join.groupBy(\"product_id\").agg(F.avg(\"review_score\").alias(\"avg_review_score\"))\n",
    "seller_reviews = review_join.groupBy(\"seller_id\").agg(F.avg(\"review_score\").alias(\"avg_review_score\"))\n",
    "product_reviews.show(5)\n",
    "seller_reviews.show(5)"
   ]
  },
  {
   "cell_type": "code",
   "execution_count": 0,
   "metadata": {
    "application/vnd.databricks.v1+cell": {
     "cellMetadata": {
      "byteLimit": 2048000,
      "rowLimit": 10000
     },
     "inputWidgets": {},
     "nuid": "e4a228b8-3f2a-47de-89e2-300b3de47cc3",
     "showTitle": false,
     "title": ""
    }
   },
   "outputs": [
    {
     "name": "stdout",
     "output_type": "stream",
     "text": [
      "+-------------+---------------+---------------+\n",
      "|customer_city|geolocation_lat|geolocation_lng|\n",
      "+-------------+---------------+---------------+\n",
      "|    sao paulo|     -23.560673|      -46.67341|\n",
      "|    sao paulo|     -23.560673|      -46.67341|\n",
      "|    sao paulo|     -23.560673|      -46.67341|\n",
      "|    sao paulo|     -23.560673|      -46.67341|\n",
      "|    sao paulo|     -23.560673|      -46.67341|\n",
      "+-------------+---------------+---------------+\n",
      "only showing top 5 rows\n",
      "\n",
      "+-----------+---------------+---------------+\n",
      "|seller_city|geolocation_lat|geolocation_lng|\n",
      "+-----------+---------------+---------------+\n",
      "|  sao paulo|     -23.561802|     -46.479683|\n",
      "|  sao paulo|     -23.561802|     -46.479683|\n",
      "|  sao paulo|      -23.56478|     -46.476734|\n",
      "|  sao paulo|      -23.56478|     -46.476734|\n",
      "|  sao paulo|     -23.564657|     -46.468876|\n",
      "+-----------+---------------+---------------+\n",
      "only showing top 5 rows\n",
      "\n"
     ]
    }
   ],
   "source": [
    "customer_geo = customer_df.join(geolocation_df,customer_df[\"customer_zip_code_prefix\"]==geolocation_df[\"geolocation_zip_code_prefix\"],\"inner\") \n",
    "customer_geo.select(\"customer_city\",\"geolocation_lat\",\"geolocation_lng\").show(5)\n",
    "seller_geo = seller_df.join(geolocation_df,seller_df[\"seller_zip_code_prefix\"] == geolocation_df[\"geolocation_zip_code_prefix\"],\"inner\")\n",
    "seller_geo.select(\"seller_city\",\"geolocation_lat\",\"geolocation_lng\").show(5)"
   ]
  }
 ],
 "metadata": {
  "application/vnd.databricks.v1+notebook": {
   "dashboards": [],
   "environmentMetadata": null,
   "language": "python",
   "notebookMetadata": {
    "pythonIndentUnit": 4
   },
   "notebookName": "E-comm Analysis",
   "widgets": {}
  },
  "language_info": {
   "name": "python"
  }
 },
 "nbformat": 4,
 "nbformat_minor": 0
}
